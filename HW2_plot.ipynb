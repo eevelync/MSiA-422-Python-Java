{
 "cells": [
  {
   "cell_type": "code",
   "execution_count": 1,
   "id": "3df7daae",
   "metadata": {},
   "outputs": [],
   "source": [
    "import timeit\n",
    "import time\n",
    "import matplotlib.pyplot as plt\n",
    "import random\n",
    "import pandas as pd"
   ]
  },
  {
   "cell_type": "code",
   "execution_count": 52,
   "id": "6ac79d1c",
   "metadata": {},
   "outputs": [],
   "source": [
    "from hw2_scn3674 import MySorted"
   ]
  },
  {
   "cell_type": "code",
   "execution_count": 53,
   "id": "e5c16737",
   "metadata": {},
   "outputs": [],
   "source": [
    "# Compare your functions on a randomly generated data\n",
    "def generate_random(N):\n",
    "    random_list = []\n",
    "    for i in range(N):\n",
    "        random_list.append(random.randint(-1000000,10000000))\n",
    "    return random_list"
   ]
  },
  {
   "cell_type": "code",
   "execution_count": 64,
   "id": "348a64c3",
   "metadata": {},
   "outputs": [
    {
     "name": "stdout",
     "output_type": "stream",
     "text": [
      "Comparison of my bubble and merge function:\n",
      "[Bubble]:\n",
      "Number of comparisons are: 499500 \n",
      "Number of swaps are: 253457 \n",
      "Timer measure is: 1.51e-01 \n",
      "[Merge]:\n",
      "Number of comparisons are: 8719 \n",
      "Timer measure is: 3.89e-03 \n",
      "\n",
      "\n",
      "Comparison of my bubble and morge function to the built-in sort function:\n",
      "[Bubble]:\n",
      "Number of comparisons are: 499500 \n",
      "Number of swaps are: 236233 \n",
      "Timer measure is: 1.43e-01 \n",
      "[Merge]:\n",
      "Number of comparisons are: 8711 \n",
      "Timer measure is: 3.70e-03 \n",
      "[Built-in]: \n",
      "Time measure is: 0.00015414299991789449\n"
     ]
    }
   ],
   "source": [
    "# Compare your functions on a randomly generated data\n",
    "random_list = generate_random(1000)\n",
    "my_sorted = MySorted()\n",
    "print(\"Comparison of my bubble and merge function:\")\n",
    "print(\"[Bubble]:\")\n",
    "my_sorted.bubble_sorted(random_list)\n",
    "print(\"[Merge]:\")\n",
    "my_sorted.merge_sorted(random_list)\n",
    "\n",
    "# Compare your functions to the built-in sorted() function (time wise)\n",
    "random_list = generate_random(1000)\n",
    "my_sorted = MySorted()\n",
    "print('\\n')\n",
    "print(\"Comparison of my bubble and morge function to the built-in sort function:\")\n",
    "builtin = sorted(random_list)\n",
    "print(\"[Bubble]:\")\n",
    "bubble = my_sorted.bubble_sorted(random_list)\n",
    "print(\"[Merge]:\")\n",
    "merge = my_sorted.merge_sorted(random_list)\n",
    "try:\n",
    "    assert(builtin == bubble)\n",
    "    assert(builtin == merge)\n",
    "except:\n",
    "    print(\"Sorted result do not match!\")\n",
    "\n",
    "builtin_time = timeit.timeit(\"sorted(random_list)\", setup = \"from __main__ import random_list\", number=1)    \n",
    "print(\"[Built-in]: \\n\" + \"Time measure is: \" + str(builtin_time))\n",
    "\n"
   ]
  },
  {
   "cell_type": "code",
   "execution_count": 65,
   "id": "0bf83d10",
   "metadata": {},
   "outputs": [],
   "source": [
    "# Present your findings thru plots and summary tables\n",
    "\n",
    "def plot_timediff():\n",
    "    N = [10,100,1000,10000]\n",
    "    builtin_time = []\n",
    "    bubble_time = []\n",
    "    merge_time = []\n",
    "    for n in N:\n",
    "        print(N)\n",
    "        my_sorted = MySorted()\n",
    "        random_list = generate_random(n)\n",
    "        \n",
    "        start_time = time.time()\n",
    "        sorted(random_list)\n",
    "        builtin_time += [- start_time + time.time()]\n",
    "        \n",
    "        start_time = time.time()\n",
    "        my_sorted.bubble_sorted(random_list)\n",
    "        bubble_time += [- start_time + time.time()]\n",
    "        \n",
    "        start_time = time.time()\n",
    "        my_sorted.merge_sorted(random_list)\n",
    "        merge_time += [- start_time + time.time()]\n",
    "        print(\"merge:\", - start_time + time.time())\n",
    "        \n",
    "    plt.plot(N,builtin_time)\n",
    "    plt.plot(N,bubble_time)\n",
    "    plt.plot(N,merge_time)\n",
    "    plt.xscale(\"log\")\n",
    "    plt.yscale(\"log\")\n",
    "    plt.legend([\"built-in\",\"bubble\",\"merge\"])\n",
    "    plt.xlabel(\"cases tested\")\n",
    "    plt.ylabel(\"Runtime\")\n",
    "    return builtin_time, bubble_time, merge_time"
   ]
  },
  {
   "cell_type": "code",
   "execution_count": 66,
   "id": "9cd2e1eb",
   "metadata": {},
   "outputs": [
    {
     "name": "stdout",
     "output_type": "stream",
     "text": [
      "[10, 100, 1000, 10000]\n",
      "Number of comparisons are: 45 \n",
      "Number of swaps are: 26 \n",
      "Timer measure is: 3.03e-04 \n",
      "Number of comparisons are: 21 \n",
      "Timer measure is: 1.16e-04 \n",
      "merge: 0.0003879070281982422\n",
      "[10, 100, 1000, 10000]\n",
      "Number of comparisons are: 4950 \n",
      "Number of swaps are: 2333 \n",
      "Timer measure is: 2.76e-03 \n",
      "Number of comparisons are: 544 \n",
      "Timer measure is: 6.63e-04 \n",
      "merge: 0.0007560253143310547\n",
      "[10, 100, 1000, 10000]\n",
      "Number of comparisons are: 499500 \n",
      "Number of swaps are: 252802 \n",
      "Timer measure is: 1.52e-01 \n",
      "Number of comparisons are: 8685 \n",
      "Timer measure is: 3.53e-03 \n",
      "merge: 0.0035829544067382812\n",
      "[10, 100, 1000, 10000]\n",
      "Number of comparisons are: 49995000 \n",
      "Number of swaps are: 24793600 \n",
      "Timer measure is: 1.45e+01 \n",
      "Number of comparisons are: 120501 \n",
      "Timer measure is: 4.75e-02 \n",
      "merge: 0.04759812355041504\n"
     ]
    },
    {
     "data": {
      "image/png": "[encoded data removed]",
      "text/plain": [
       "<Figure size 432x288 with 1 Axes>"
      ]
     },
     "metadata": {
      "needs_background": "light"
     },
     "output_type": "display_data"
    }
   ],
   "source": [
    "# show runtime difference through plot\n",
    "builtin_time, bubble_time, merge_time = plot_timediff()"
   ]
  },
  {
   "cell_type": "code",
   "execution_count": 67,
   "id": "ab0b4f57",
   "metadata": {},
   "outputs": [
    {
     "data": {
      "text/html": [
       "<div>\n",
       "<style scoped>\n",
       "    .dataframe tbody tr th:only-of-type {\n",
       "        vertical-align: middle;\n",
       "    }\n",
       "\n",
       "    .dataframe tbody tr th {\n",
       "        vertical-align: top;\n",
       "    }\n",
       "\n",
       "    .dataframe thead th {\n",
       "        text-align: right;\n",
       "    }\n",
       "</style>\n",
       "<table border=\"1\" class=\"dataframe\">\n",
       "  <thead>\n",
       "    <tr style=\"text-align: right;\">\n",
       "      <th></th>\n",
       "      <th>built-in</th>\n",
       "      <th>bubble</th>\n",
       "      <th>merge</th>\n",
       "    </tr>\n",
       "  </thead>\n",
       "  <tbody>\n",
       "    <tr>\n",
       "      <th>10</th>\n",
       "      <td>0.000004</td>\n",
       "      <td>0.000408</td>\n",
       "      <td>0.000387</td>\n",
       "    </tr>\n",
       "    <tr>\n",
       "      <th>100</th>\n",
       "      <td>0.000017</td>\n",
       "      <td>0.002882</td>\n",
       "      <td>0.000752</td>\n",
       "    </tr>\n",
       "    <tr>\n",
       "      <th>1000</th>\n",
       "      <td>0.000173</td>\n",
       "      <td>0.152486</td>\n",
       "      <td>0.003582</td>\n",
       "    </tr>\n",
       "    <tr>\n",
       "      <th>10000</th>\n",
       "      <td>0.001107</td>\n",
       "      <td>14.493982</td>\n",
       "      <td>0.047597</td>\n",
       "    </tr>\n",
       "  </tbody>\n",
       "</table>\n",
       "</div>"
      ],
      "text/plain": [
       "       built-in     bubble     merge\n",
       "10     0.000004   0.000408  0.000387\n",
       "100    0.000017   0.002882  0.000752\n",
       "1000   0.000173   0.152486  0.003582\n",
       "10000  0.001107  14.493982  0.047597"
      ]
     },
     "execution_count": 67,
     "metadata": {},
     "output_type": "execute_result"
    }
   ],
   "source": [
    "# show runtime difference through summary table\n",
    "df = pd.DataFrame(list(zip(builtin_time, bubble_time, merge_time)),index=[10,100,1000,10000],columns = [\"built-in\",\"bubble\",\"merge\"])\n",
    "df.head()"
   ]
  },
  {
   "cell_type": "markdown",
   "id": "f569659f",
   "metadata": {},
   "source": [
    "Based on the above table and plot, the built-in function has a much lower runtime than the bubble and merge method. The bubble function has the longest runtime."
   ]
  }
 ],
 "metadata": {
  "kernelspec": {
   "display_name": "Python 3 (ipykernel)",
   "language": "python",
   "name": "python3"
  },
  "language_info": {
   "codemirror_mode": {
    "name": "ipython",
    "version": 3
   },
   "file_extension": ".py",
   "mimetype": "text/x-python",
   "name": "python",
   "nbconvert_exporter": "python",
   "pygments_lexer": "ipython3",
   "version": "3.8.8"
  }
 },
 "nbformat": 4,
 "nbformat_minor": 5
}

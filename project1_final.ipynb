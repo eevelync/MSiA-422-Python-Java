{
 "cells": [
  {
   "cell_type": "code",
   "execution_count": 1,
   "id": "965a451f",
   "metadata": {},
   "outputs": [],
   "source": [
    "import pandas as pd\n",
    "import matplotlib.pyplot as plt\n",
    "import numpy as np\n",
    "\n",
    "class baby_finder():\n",
    "    '''\n",
    "    Here is a class to analyze BABY NAMES BY STATE and YEAR\n",
    "    '''\n",
    "    def __init__(self, path = None):\n",
    "        '''\n",
    "        read data and store birth name data by state and year to dataframe\n",
    "        '''\n",
    "        if path == None:\n",
    "            print(\"invalid file path. please retry\")\n",
    "        else:\n",
    "            states = [ 'AK', 'AL', 'AR', 'AZ', 'CA', 'CO', 'CT', 'DC', 'DE', 'FL', 'GA',\n",
    "           'HI', 'IA', 'ID', 'IL', 'IN', 'KS', 'KY', 'LA', 'MA', 'MD', 'ME',\n",
    "           'MI', 'MN', 'MO', 'MS', 'MT', 'NC', 'ND', 'NE', 'NH', 'NJ', 'NM',\n",
    "           'NV', 'NY', 'OH', 'OK', 'OR', 'PA', 'RI', 'SC', 'SD', 'TN', 'TX',\n",
    "           'UT', 'VA', 'VT', 'WA', 'WI', 'WV', 'WY']\n",
    "            \n",
    "            newlist = []\n",
    "            names = None\n",
    "            self.names = None\n",
    "            columns = ['state','sex','year','name','births']\n",
    "\n",
    "            for state in states:\n",
    "                path = r'./namesbystate/%s.txt' % state\n",
    "                df = pd.read_csv(path,names=columns)\n",
    "                newlist.append(df)\n",
    "            self.names = pd.concat(newlist,ignore_index = True)\n",
    "        \n",
    "    def count(self,state = None,year = None):\n",
    "        '''\n",
    "        This function returns the total number of births. \n",
    "        A blank state or year should return all births of the empty input.\n",
    "        '''\n",
    "        if state is None and year is None:\n",
    "            return len(self.names)\n",
    "        elif state is None:\n",
    "            return len(self.names[self.names[\"year\"]==year])\n",
    "        elif year is None:\n",
    "            return len(self.names[self.names[\"state\"]==state])\n",
    "        else:\n",
    "            return len(self.names.loc[(self.names[\"state\"]==state) & (self.names[\"year\"]==year)])\n",
    "    \n",
    "    def Top10BabyNames(self,state = None,year = None):\n",
    "        '''\n",
    "        return top 10 baby names for male and female given state and year\n",
    "        '''\n",
    "        if state is None and year is None:\n",
    "            temp = self.names\n",
    "\n",
    "        elif state is None:\n",
    "            temp = self.names[self.names[\"year\"]==year] \n",
    "            \n",
    "        elif year is None:\n",
    "            temp = self.names[self.names[\"state\"]==state]\n",
    "        else:\n",
    "            temp = self.names.loc[(self.names[\"state\"]==state) & (self.names[\"year\"]==year)]\n",
    "        \n",
    "        # sort female and male top 10 popular name\n",
    "        f = list(dict.fromkeys(temp[temp['sex']=='F'].sort_values(by=['births'], ascending=False)['name']))[:10]\n",
    "        m = list(dict.fromkeys(temp[temp['sex']=='M'].sort_values(by=['births'], ascending=False)['name']))[:10]\n",
    "        \n",
    "        # create rank table\n",
    "        d = {'Rank':range(1,11),'Male':m,'Female':f}\n",
    "        df = pd.DataFrame(d)\n",
    "        display(df)\n",
    "        \n",
    "    def NamePopularityPlot(self,name='Jim', yearRange=(2000,2015), state='CA', sex='M'):\n",
    "        '''\n",
    "        This function will create a plot file that shows the name popularity changes over the year. \n",
    "        '''\n",
    "        # count total number of name in each year\n",
    "        num_total_name = []\n",
    "        for i in range(yearRange[0],yearRange[1]+1):\n",
    "            cur_len = len(self.names.loc[(self.names[\"state\"]==state) & (self.names[\"year\"]==i)& (self.names[\"sex\"]==sex)])\n",
    "            num_total_name.append(cur_len)\n",
    "        \n",
    "        #filter name state and sex\n",
    "        mary = self.names.loc[(self.names['name'] == name) & (self.names['sex'] == sex) & (self.names['state'] == state) & (self.names['year'] >= yearRange[0]) & (self.names['year'] <= yearRange[1]) ]\n",
    "        mary = mary[['year','births']]\n",
    "        \n",
    "        # calcualte percentage\n",
    "        mary['births'] = mary['births']/num_total_name*100\n",
    "        mary = mary.set_index(['year'])\n",
    "\n",
    "        mary.plot(color='Blue',title='Popularity change in percentage %')\n",
    "        \n",
    "    def ChangeOfPopularity(self,fromYear=1996, toYear=1998, top=10):\n",
    "        '''\n",
    "        I define this function to compare the popularity of from year and end year. \n",
    "        If names appear in top n in from year but not in end year, I would define it as decrease popylarity\n",
    "        If names not appear in top n in from year but appear in end year, I would define it as increase popylarity\n",
    "        If names appear in top n in from year and also appear in end year, I would define it as same popylarity\n",
    "        '''\n",
    "        names = self.names\n",
    "        from_names = names.loc[(names[\"year\"]==fromYear)]\n",
    "        to_names = names.loc[(names[\"year\"]==toYear)]\n",
    "        f = list(dict.fromkeys(from_names.sort_values(by=['births'], ascending=False)['name']))[:top]\n",
    "        t = list(dict.fromkeys(to_names.sort_values(by=['births'], ascending=False)['name']))[:top]\n",
    "        \n",
    "        # initial 3 lists to store names with popularity change\n",
    "        decrease = []\n",
    "        increase = []\n",
    "        same = []\n",
    "        for name in f:\n",
    "            if name not in t:\n",
    "                decrease.append(name)\n",
    "            else:\n",
    "                same.append(name)\n",
    "        for name in t:\n",
    "            if name not in f:\n",
    "                increase.append(name)\n",
    "        print(\"names that increase popularity:\",increase)\n",
    "        print(\"names that decrease popularity:\",decrease)\n",
    "        print(\"names that having the same popularity:\",same)\n",
    "        \n",
    "    def Top5NamesPerYear(self, year = 2015, sex = None):\n",
    "        df = self.names\n",
    "        \n",
    "        # filter names according to parameters\n",
    "        if sex is None:\n",
    "            df = df[df[\"year\"] == year]\n",
    "        else:\n",
    "            df = df[(df[\"year\"] == year) & (df[\"sex\"] == sex)]\n",
    "        \n",
    "        # count numbers of name\n",
    "        df = df.groupby([\"name\",\"state\"]).sum()[['births']].reset_index()\n",
    "        df = df.sort_values([\"state\",\"births\"], ascending = False)\n",
    "        \n",
    "        df_show = pd.DataFrame()\n",
    "        result = []\n",
    "        unique_state = df[\"state\"].unique()\n",
    "        for state in unique_state:\n",
    "            state_array = list(df[df[\"state\"]==state].iloc[0:5,[0,2]].values.flatten())\n",
    "            state_array.insert(0,state)\n",
    "            result.append(state_array)\n",
    "        \n",
    "        final_result = pd.DataFrame(data=result,columns=[\"State\",\"Rank1\",\"Num1\",\"Rank2\",\"Num2\",\"Rank3\",\"Num3\",\"Rank4\",\"Num4\",\"Rank5\",\"Num5\"])\n",
    "        \n",
    "        return final_result.sort_values(\"State\").reset_index(drop=True).head(2)\n",
    "\n",
    "        \n",
    "    def NameFlip(self,n=10):\n",
    "        '''\n",
    "        I define this function as finding the flipped names over multiple years\n",
    "        This function will find the intersection names between male and female among all the years\n",
    "        and then sort the top n names according to the difference in popularity.\n",
    "        (eg if a name rank 2 in male list and rank 3 in female list, the rank difference will be 1 and I consider that as a huge name flip)\n",
    "        '''\n",
    "        # get the most popular 100 female names and males name list\n",
    "        names = self.names\n",
    "        f = list(dict.fromkeys(names[names['sex']=='F'].sort_values(by=['births'], ascending=False)['name']))[:1000]\n",
    "        m = list(dict.fromkeys(names[names['sex']=='M'].sort_values(by=['births'], ascending=False)['name']))[:1000]\n",
    "\n",
    "        # convert the list to dictionary with key as name and value as popularity rank\n",
    "        m_dict = {k: v for v, k in enumerate(m)}\n",
    "        f_dict = {k: v for v, k in enumerate(f)}\n",
    "\n",
    "        # find shared name between male and female\n",
    "        share_name = list(set(m) & set(f))\n",
    "\n",
    "        # only keep names in share name for both female and male\n",
    "        m_share_dict = {k: v for k, v in m_dict.items() if k in share_name}\n",
    "        #print(m_share_dict)\n",
    "        f_share_dict = {k: v for k, v in f_dict.items() if k in share_name}\n",
    "        #print(f_share_dict)\n",
    "\n",
    "        # calcualte rank change \n",
    "        rank_diff = {}\n",
    "        for i in share_name:\n",
    "            rank_diff[i] = abs(m_share_dict[i]-f_share_dict[i])\n",
    "        #print(rank_diff)\n",
    "\n",
    "        # find the top n rank change names\n",
    "        ans = dict(sorted(rank_diff.items(), key=lambda item: item[1]))\n",
    "        ans_top = list(ans.items())[:n]\n",
    "\n",
    "        name_plot = [i[0] for i in ans_top]\n",
    "        count_plot = [i[1] for i in ans_top]\n",
    "        print(name_plot)\n",
    "        plt.bar(name_plot, count_plot)\n",
    "        plt.xticks(rotation=90)\n",
    "        plt.show()"
   ]
  },
  {
   "cell_type": "code",
   "execution_count": 2,
   "id": "c8ef22b6",
   "metadata": {},
   "outputs": [],
   "source": [
    "baby = baby_finder(\"namesbystate\")"
   ]
  },
  {
   "cell_type": "markdown",
   "id": "5a4e1087",
   "metadata": {},
   "source": [
    "# Test count function"
   ]
  },
  {
   "cell_type": "code",
   "execution_count": 3,
   "id": "e840b956",
   "metadata": {},
   "outputs": [
    {
     "data": {
      "text/plain": [
       "4324"
      ]
     },
     "execution_count": 3,
     "metadata": {},
     "output_type": "execute_result"
    }
   ],
   "source": [
    "baby.count(state=\"CA\",year=1980)"
   ]
  },
  {
   "cell_type": "code",
   "execution_count": 4,
   "id": "6976f00f",
   "metadata": {},
   "outputs": [
    {
     "data": {
      "text/plain": [
       "400762"
      ]
     },
     "execution_count": 4,
     "metadata": {},
     "output_type": "execute_result"
    }
   ],
   "source": [
    "baby.count(state=\"CA\")"
   ]
  },
  {
   "cell_type": "code",
   "execution_count": 5,
   "id": "6e67576a",
   "metadata": {},
   "outputs": [
    {
     "data": {
      "text/plain": [
       "59574"
      ]
     },
     "execution_count": 5,
     "metadata": {},
     "output_type": "execute_result"
    }
   ],
   "source": [
    "baby.count(year=1980)"
   ]
  },
  {
   "cell_type": "markdown",
   "id": "0c89239a",
   "metadata": {},
   "source": [
    "# Test Top10BabyNames function"
   ]
  },
  {
   "cell_type": "code",
   "execution_count": 6,
   "id": "94d9a80a",
   "metadata": {},
   "outputs": [
    {
     "data": {
      "text/html": [
       "<div>\n",
       "<style scoped>\n",
       "    .dataframe tbody tr th:only-of-type {\n",
       "        vertical-align: middle;\n",
       "    }\n",
       "\n",
       "    .dataframe tbody tr th {\n",
       "        vertical-align: top;\n",
       "    }\n",
       "\n",
       "    .dataframe thead th {\n",
       "        text-align: right;\n",
       "    }\n",
       "</style>\n",
       "<table border=\"1\" class=\"dataframe\">\n",
       "  <thead>\n",
       "    <tr style=\"text-align: right;\">\n",
       "      <th></th>\n",
       "      <th>Rank</th>\n",
       "      <th>Male</th>\n",
       "      <th>Female</th>\n",
       "    </tr>\n",
       "  </thead>\n",
       "  <tbody>\n",
       "    <tr>\n",
       "      <th>0</th>\n",
       "      <td>1</td>\n",
       "      <td>Daniel</td>\n",
       "      <td>Emily</td>\n",
       "    </tr>\n",
       "    <tr>\n",
       "      <th>1</th>\n",
       "      <td>2</td>\n",
       "      <td>Anthony</td>\n",
       "      <td>Ashley</td>\n",
       "    </tr>\n",
       "    <tr>\n",
       "      <th>2</th>\n",
       "      <td>3</td>\n",
       "      <td>Jose</td>\n",
       "      <td>Samantha</td>\n",
       "    </tr>\n",
       "    <tr>\n",
       "      <th>3</th>\n",
       "      <td>4</td>\n",
       "      <td>Andrew</td>\n",
       "      <td>Jessica</td>\n",
       "    </tr>\n",
       "    <tr>\n",
       "      <th>4</th>\n",
       "      <td>5</td>\n",
       "      <td>Michael</td>\n",
       "      <td>Jennifer</td>\n",
       "    </tr>\n",
       "    <tr>\n",
       "      <th>5</th>\n",
       "      <td>6</td>\n",
       "      <td>Jacob</td>\n",
       "      <td>Alyssa</td>\n",
       "    </tr>\n",
       "    <tr>\n",
       "      <th>6</th>\n",
       "      <td>7</td>\n",
       "      <td>Joshua</td>\n",
       "      <td>Alexis</td>\n",
       "    </tr>\n",
       "    <tr>\n",
       "      <th>7</th>\n",
       "      <td>8</td>\n",
       "      <td>Christopher</td>\n",
       "      <td>Sarah</td>\n",
       "    </tr>\n",
       "    <tr>\n",
       "      <th>8</th>\n",
       "      <td>9</td>\n",
       "      <td>David</td>\n",
       "      <td>Hannah</td>\n",
       "    </tr>\n",
       "    <tr>\n",
       "      <th>9</th>\n",
       "      <td>10</td>\n",
       "      <td>Matthew</td>\n",
       "      <td>Elizabeth</td>\n",
       "    </tr>\n",
       "  </tbody>\n",
       "</table>\n",
       "</div>"
      ],
      "text/plain": [
       "   Rank         Male     Female\n",
       "0     1       Daniel      Emily\n",
       "1     2      Anthony     Ashley\n",
       "2     3         Jose   Samantha\n",
       "3     4       Andrew    Jessica\n",
       "4     5      Michael   Jennifer\n",
       "5     6        Jacob     Alyssa\n",
       "6     7       Joshua     Alexis\n",
       "7     8  Christopher      Sarah\n",
       "8     9        David     Hannah\n",
       "9    10      Matthew  Elizabeth"
      ]
     },
     "metadata": {},
     "output_type": "display_data"
    }
   ],
   "source": [
    "baby.Top10BabyNames(year=2000)"
   ]
  },
  {
   "cell_type": "code",
   "execution_count": 7,
   "id": "037d9c6a",
   "metadata": {},
   "outputs": [
    {
     "data": {
      "text/html": [
       "<div>\n",
       "<style scoped>\n",
       "    .dataframe tbody tr th:only-of-type {\n",
       "        vertical-align: middle;\n",
       "    }\n",
       "\n",
       "    .dataframe tbody tr th {\n",
       "        vertical-align: top;\n",
       "    }\n",
       "\n",
       "    .dataframe thead th {\n",
       "        text-align: right;\n",
       "    }\n",
       "</style>\n",
       "<table border=\"1\" class=\"dataframe\">\n",
       "  <thead>\n",
       "    <tr style=\"text-align: right;\">\n",
       "      <th></th>\n",
       "      <th>Rank</th>\n",
       "      <th>Male</th>\n",
       "      <th>Female</th>\n",
       "    </tr>\n",
       "  </thead>\n",
       "  <tbody>\n",
       "    <tr>\n",
       "      <th>0</th>\n",
       "      <td>1</td>\n",
       "      <td>Daniel</td>\n",
       "      <td>Emily</td>\n",
       "    </tr>\n",
       "    <tr>\n",
       "      <th>1</th>\n",
       "      <td>2</td>\n",
       "      <td>Anthony</td>\n",
       "      <td>Ashley</td>\n",
       "    </tr>\n",
       "    <tr>\n",
       "      <th>2</th>\n",
       "      <td>3</td>\n",
       "      <td>Jose</td>\n",
       "      <td>Samantha</td>\n",
       "    </tr>\n",
       "    <tr>\n",
       "      <th>3</th>\n",
       "      <td>4</td>\n",
       "      <td>Andrew</td>\n",
       "      <td>Jessica</td>\n",
       "    </tr>\n",
       "    <tr>\n",
       "      <th>4</th>\n",
       "      <td>5</td>\n",
       "      <td>Michael</td>\n",
       "      <td>Jennifer</td>\n",
       "    </tr>\n",
       "    <tr>\n",
       "      <th>5</th>\n",
       "      <td>6</td>\n",
       "      <td>Jacob</td>\n",
       "      <td>Alyssa</td>\n",
       "    </tr>\n",
       "    <tr>\n",
       "      <th>6</th>\n",
       "      <td>7</td>\n",
       "      <td>Joshua</td>\n",
       "      <td>Alexis</td>\n",
       "    </tr>\n",
       "    <tr>\n",
       "      <th>7</th>\n",
       "      <td>8</td>\n",
       "      <td>Christopher</td>\n",
       "      <td>Sarah</td>\n",
       "    </tr>\n",
       "    <tr>\n",
       "      <th>8</th>\n",
       "      <td>9</td>\n",
       "      <td>David</td>\n",
       "      <td>Hannah</td>\n",
       "    </tr>\n",
       "    <tr>\n",
       "      <th>9</th>\n",
       "      <td>10</td>\n",
       "      <td>Matthew</td>\n",
       "      <td>Elizabeth</td>\n",
       "    </tr>\n",
       "  </tbody>\n",
       "</table>\n",
       "</div>"
      ],
      "text/plain": [
       "   Rank         Male     Female\n",
       "0     1       Daniel      Emily\n",
       "1     2      Anthony     Ashley\n",
       "2     3         Jose   Samantha\n",
       "3     4       Andrew    Jessica\n",
       "4     5      Michael   Jennifer\n",
       "5     6        Jacob     Alyssa\n",
       "6     7       Joshua     Alexis\n",
       "7     8  Christopher      Sarah\n",
       "8     9        David     Hannah\n",
       "9    10      Matthew  Elizabeth"
      ]
     },
     "metadata": {},
     "output_type": "display_data"
    }
   ],
   "source": [
    "baby.Top10BabyNames(state = 'CA',year=2000)"
   ]
  },
  {
   "cell_type": "code",
   "execution_count": 8,
   "id": "d677563a",
   "metadata": {},
   "outputs": [
    {
     "data": {
      "image/png": "[encoded data removed]",
      "text/plain": [
       "<Figure size 640x480 with 1 Axes>"
      ]
     },
     "metadata": {},
     "output_type": "display_data"
    }
   ],
   "source": [
    "baby.NamePopularityPlot(name = 'Tina',yearRange=(1980,2010),sex='F')"
   ]
  },
  {
   "cell_type": "code",
   "execution_count": 9,
   "id": "a97fafd0",
   "metadata": {},
   "outputs": [
    {
     "data": {
      "image/png": "[encoded data removed]",
      "text/plain": [
       "<Figure size 640x480 with 1 Axes>"
      ]
     },
     "metadata": {},
     "output_type": "display_data"
    }
   ],
   "source": [
    "baby.NamePopularityPlot(name = 'Tom',yearRange=(1980,2010),sex='M')"
   ]
  },
  {
   "cell_type": "markdown",
   "id": "e6f45e52",
   "metadata": {},
   "source": [
    "# Story: Some names are popular in a fluctuation trend. For example, Tom is decreasing in general from 1980 to 2010 but the percentage gets up and down around every 3 years."
   ]
  },
  {
   "cell_type": "markdown",
   "id": "7ca65ec0",
   "metadata": {},
   "source": [
    "# Test ChangeOfPopularity function"
   ]
  },
  {
   "cell_type": "code",
   "execution_count": 10,
   "id": "de8e19a4",
   "metadata": {},
   "outputs": [
    {
     "name": "stdout",
     "output_type": "stream",
     "text": [
      "names that increase popularity: ['Isabella', 'Sophia', 'Jacob', 'Anthony', 'Alexander', 'Angel', 'Ethan', 'Jayden']\n",
      "names that decrease popularity: ['Michael', 'Jennifer', 'Christopher', 'Jason', 'Robert', 'Matthew', 'Joshua', 'James']\n",
      "names that having the same popularity: ['David', 'Daniel']\n"
     ]
    }
   ],
   "source": [
    "baby.ChangeOfPopularity(fromYear=1980, toYear=2010, top=10)"
   ]
  },
  {
   "cell_type": "code",
   "execution_count": 11,
   "id": "b0b558f1",
   "metadata": {},
   "outputs": [
    {
     "name": "stdout",
     "output_type": "stream",
     "text": [
      "names that increase popularity: ['Isabella', 'Sophia', 'Jacob', 'Anthony']\n",
      "names that decrease popularity: ['Michael', 'Jennifer', 'David', 'Christopher']\n",
      "names that having the same popularity: ['Daniel']\n"
     ]
    }
   ],
   "source": [
    "baby.ChangeOfPopularity(fromYear=1980, toYear=2010, top=5)"
   ]
  },
  {
   "cell_type": "markdown",
   "id": "a6249322",
   "metadata": {},
   "source": [
    "# Test Top5NamesPerYear"
   ]
  },
  {
   "cell_type": "code",
   "execution_count": 12,
   "id": "82602f7b",
   "metadata": {},
   "outputs": [
    {
     "data": {
      "text/html": [
       "<div>\n",
       "<style scoped>\n",
       "    .dataframe tbody tr th:only-of-type {\n",
       "        vertical-align: middle;\n",
       "    }\n",
       "\n",
       "    .dataframe tbody tr th {\n",
       "        vertical-align: top;\n",
       "    }\n",
       "\n",
       "    .dataframe thead th {\n",
       "        text-align: right;\n",
       "    }\n",
       "</style>\n",
       "<table border=\"1\" class=\"dataframe\">\n",
       "  <thead>\n",
       "    <tr style=\"text-align: right;\">\n",
       "      <th></th>\n",
       "      <th>State</th>\n",
       "      <th>Rank1</th>\n",
       "      <th>Num1</th>\n",
       "      <th>Rank2</th>\n",
       "      <th>Num2</th>\n",
       "      <th>Rank3</th>\n",
       "      <th>Num3</th>\n",
       "      <th>Rank4</th>\n",
       "      <th>Num4</th>\n",
       "      <th>Rank5</th>\n",
       "      <th>Num5</th>\n",
       "    </tr>\n",
       "  </thead>\n",
       "  <tbody>\n",
       "    <tr>\n",
       "      <th>0</th>\n",
       "      <td>AK</td>\n",
       "      <td>Olivia</td>\n",
       "      <td>56</td>\n",
       "      <td>Liam</td>\n",
       "      <td>54</td>\n",
       "      <td>Emma</td>\n",
       "      <td>49</td>\n",
       "      <td>Noah</td>\n",
       "      <td>48</td>\n",
       "      <td>Aurora</td>\n",
       "      <td>46</td>\n",
       "    </tr>\n",
       "    <tr>\n",
       "      <th>1</th>\n",
       "      <td>AL</td>\n",
       "      <td>William</td>\n",
       "      <td>414</td>\n",
       "      <td>James</td>\n",
       "      <td>322</td>\n",
       "      <td>John</td>\n",
       "      <td>320</td>\n",
       "      <td>Ava</td>\n",
       "      <td>298</td>\n",
       "      <td>Mason</td>\n",
       "      <td>295</td>\n",
       "    </tr>\n",
       "  </tbody>\n",
       "</table>\n",
       "</div>"
      ],
      "text/plain": [
       "  State    Rank1  Num1  Rank2  Num2 Rank3  Num3 Rank4  Num4   Rank5  Num5\n",
       "0    AK   Olivia    56   Liam    54  Emma    49  Noah    48  Aurora    46\n",
       "1    AL  William   414  James   322  John   320   Ava   298   Mason   295"
      ]
     },
     "execution_count": 12,
     "metadata": {},
     "output_type": "execute_result"
    }
   ],
   "source": [
    "baby.Top5NamesPerYear(year = 2015)"
   ]
  },
  {
   "cell_type": "code",
   "execution_count": 13,
   "id": "261cc707",
   "metadata": {},
   "outputs": [
    {
     "data": {
      "text/html": [
       "<div>\n",
       "<style scoped>\n",
       "    .dataframe tbody tr th:only-of-type {\n",
       "        vertical-align: middle;\n",
       "    }\n",
       "\n",
       "    .dataframe tbody tr th {\n",
       "        vertical-align: top;\n",
       "    }\n",
       "\n",
       "    .dataframe thead th {\n",
       "        text-align: right;\n",
       "    }\n",
       "</style>\n",
       "<table border=\"1\" class=\"dataframe\">\n",
       "  <thead>\n",
       "    <tr style=\"text-align: right;\">\n",
       "      <th></th>\n",
       "      <th>State</th>\n",
       "      <th>Rank1</th>\n",
       "      <th>Num1</th>\n",
       "      <th>Rank2</th>\n",
       "      <th>Num2</th>\n",
       "      <th>Rank3</th>\n",
       "      <th>Num3</th>\n",
       "      <th>Rank4</th>\n",
       "      <th>Num4</th>\n",
       "      <th>Rank5</th>\n",
       "      <th>Num5</th>\n",
       "    </tr>\n",
       "  </thead>\n",
       "  <tbody>\n",
       "    <tr>\n",
       "      <th>0</th>\n",
       "      <td>AK</td>\n",
       "      <td>Hannah</td>\n",
       "      <td>58</td>\n",
       "      <td>Madison</td>\n",
       "      <td>50</td>\n",
       "      <td>Emily</td>\n",
       "      <td>48</td>\n",
       "      <td>Sarah</td>\n",
       "      <td>39</td>\n",
       "      <td>Ashley</td>\n",
       "      <td>36</td>\n",
       "    </tr>\n",
       "    <tr>\n",
       "      <th>1</th>\n",
       "      <td>AL</td>\n",
       "      <td>Hannah</td>\n",
       "      <td>443</td>\n",
       "      <td>Anna</td>\n",
       "      <td>386</td>\n",
       "      <td>Madison</td>\n",
       "      <td>382</td>\n",
       "      <td>Emily</td>\n",
       "      <td>371</td>\n",
       "      <td>Sarah</td>\n",
       "      <td>305</td>\n",
       "    </tr>\n",
       "  </tbody>\n",
       "</table>\n",
       "</div>"
      ],
      "text/plain": [
       "  State   Rank1  Num1    Rank2  Num2    Rank3  Num3  Rank4  Num4   Rank5  Num5\n",
       "0    AK  Hannah    58  Madison    50    Emily    48  Sarah    39  Ashley    36\n",
       "1    AL  Hannah   443     Anna   386  Madison   382  Emily   371   Sarah   305"
      ]
     },
     "execution_count": 13,
     "metadata": {},
     "output_type": "execute_result"
    }
   ],
   "source": [
    "baby.Top5NamesPerYear(year = 2000,sex = 'F')"
   ]
  },
  {
   "cell_type": "markdown",
   "id": "9d61d453",
   "metadata": {},
   "source": [
    "# Test NameFlip"
   ]
  },
  {
   "cell_type": "code",
   "execution_count": 14,
   "id": "c6511b92",
   "metadata": {},
   "outputs": [
    {
     "name": "stdout",
     "output_type": "stream",
     "text": [
      "['Jaime', 'Trinidad', 'Jody', 'Finley', 'Jessie', 'Peyton', 'Alexis', 'Jackie']\n"
     ]
    },
    {
     "data": {
      "image/png": "[encoded data removed]",
      "text/plain": [
       "<Figure size 640x480 with 1 Axes>"
      ]
     },
     "metadata": {},
     "output_type": "display_data"
    }
   ],
   "source": [
    "baby.NameFlip(n=8)"
   ]
  },
  {
   "cell_type": "code",
   "execution_count": null,
   "id": "affcfaa0",
   "metadata": {},
   "outputs": [],
   "source": []
  }
 ],
 "metadata": {
  "kernelspec": {
   "display_name": "Python 3 (ipykernel)",
   "language": "python",
   "name": "python3"
  },
  "language_info": {
   "codemirror_mode": {
    "name": "ipython",
    "version": 3
   },
   "file_extension": ".py",
   "mimetype": "text/x-python",
   "name": "python",
   "nbconvert_exporter": "python",
   "pygments_lexer": "ipython3",
   "version": "3.8.8"
  }
 },
 "nbformat": 4,
 "nbformat_minor": 5
}
